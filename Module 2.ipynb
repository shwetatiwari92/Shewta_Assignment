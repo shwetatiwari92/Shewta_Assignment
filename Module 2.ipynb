{
 "cells": [
  {
   "cell_type": "code",
   "execution_count": null,
   "id": "b118757a",
   "metadata": {},
   "outputs": [],
   "source": [
    "#ans1\n"
   ]
  },
  {
   "cell_type": "code",
   "execution_count": null,
   "id": "c2437ec9",
   "metadata": {},
   "outputs": [],
   "source": [
    "#ans2\n"
   ]
  },
  {
   "cell_type": "code",
   "execution_count": null,
   "id": "d282d147",
   "metadata": {},
   "outputs": [],
   "source": [
    "#ans3\n",
    "\n"
   ]
  },
  {
   "cell_type": "code",
   "execution_count": null,
   "id": "955fe1d3",
   "metadata": {},
   "outputs": [],
   "source": []
  }
 ],
 "metadata": {
  "kernelspec": {
   "display_name": "Python 3 (ipykernel)",
   "language": "python",
   "name": "python3"
  },
  "language_info": {
   "codemirror_mode": {
    "name": "ipython",
    "version": 3
   },
   "file_extension": ".py",
   "mimetype": "text/x-python",
   "name": "python",
   "nbconvert_exporter": "python",
   "pygments_lexer": "ipython3",
   "version": "3.9.13"
  }
 },
 "nbformat": 4,
 "nbformat_minor": 5
}
